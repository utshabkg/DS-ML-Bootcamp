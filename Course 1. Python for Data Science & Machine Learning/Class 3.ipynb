{
 "cells": [
  {
   "cell_type": "code",
   "execution_count": 1,
   "id": "terminal-protest",
   "metadata": {},
   "outputs": [
    {
     "name": "stdout",
     "output_type": "stream",
     "text": [
      "b\n"
     ]
    }
   ],
   "source": [
    "a = 10\n",
    "b = 50\n",
    "\n",
    "if a > b:\n",
    "    print(\"a\")\n",
    "elif a==b:\n",
    "    print(\"equal\")\n",
    "else:\n",
    "    print(\"b\")"
   ]
  },
  {
   "cell_type": "code",
   "execution_count": 2,
   "id": "successful-stock",
   "metadata": {},
   "outputs": [],
   "source": [
    "# # indentation\n",
    "# a = 10\n",
    "# b = 5\n",
    "# if a > b:\n"
   ]
  },
  {
   "cell_type": "code",
   "execution_count": 3,
   "id": "manual-exception",
   "metadata": {},
   "outputs": [
    {
     "name": "stdout",
     "output_type": "stream",
     "text": [
      "b\n"
     ]
    }
   ],
   "source": [
    "# nested if\n",
    "c = 15\n",
    "if a>b:\n",
    "    if a>c:\n",
    "        print(\"a\")\n",
    "    else:\n",
    "        print(\"c\")\n",
    "\n",
    "else:\n",
    "    if b>c:\n",
    "        print(\"b\")\n",
    "    else:\n",
    "        print(\"c\")\n"
   ]
  },
  {
   "cell_type": "markdown",
   "id": "original-apparel",
   "metadata": {},
   "source": [
    "### Loop"
   ]
  },
  {
   "cell_type": "code",
   "execution_count": 11,
   "id": "assumed-applicant",
   "metadata": {},
   "outputs": [
    {
     "name": "stdout",
     "output_type": "stream",
     "text": [
      "1\n",
      "2\n",
      "3\n",
      "4\n",
      "5\n",
      "Done\n"
     ]
    }
   ],
   "source": [
    "n = 1\n",
    "\n",
    "while n <= 10: # >=\n",
    "    if n==6:\n",
    "        n = n + 1 # increment\n",
    "        break\n",
    "    print(n)\n",
    "    n = n + 1 # increment\n",
    "\n",
    "print(\"Done\")"
   ]
  },
  {
   "cell_type": "code",
   "execution_count": 12,
   "id": "aerial-stroke",
   "metadata": {},
   "outputs": [
    {
     "name": "stdout",
     "output_type": "stream",
     "text": [
      "1\n",
      "2\n",
      "3\n",
      "4\n",
      "5\n",
      "7\n",
      "8\n",
      "9\n",
      "10\n",
      "Done\n"
     ]
    }
   ],
   "source": [
    "n = 1\n",
    "\n",
    "while n <= 10: # >=\n",
    "    if n==6:\n",
    "        n = n + 1 # increment\n",
    "        continue\n",
    "    print(n)\n",
    "    n = n + 1\n",
    "print(\"Done\")"
   ]
  },
  {
   "cell_type": "code",
   "execution_count": 13,
   "id": "acting-attack",
   "metadata": {},
   "outputs": [
    {
     "name": "stdout",
     "output_type": "stream",
     "text": [
      "0\n",
      "1\n",
      "2\n",
      "3\n",
      "4\n",
      "5\n",
      "6\n",
      "7\n",
      "8\n",
      "9\n"
     ]
    }
   ],
   "source": [
    "for i in range(10):    # (0, 10, 1)   # (initialization, condition, post-statement)\n",
    "    print(i)"
   ]
  },
  {
   "cell_type": "code",
   "execution_count": 15,
   "id": "simplified-buying",
   "metadata": {},
   "outputs": [
    {
     "name": "stdout",
     "output_type": "stream",
     "text": [
      "4\n",
      "6\n",
      "8\n"
     ]
    }
   ],
   "source": [
    "for i in range(4, 10, 2):   # (initialization, condition, post-statement)\n",
    "    print(i)"
   ]
  },
  {
   "cell_type": "code",
   "execution_count": 16,
   "id": "stupid-conservative",
   "metadata": {},
   "outputs": [],
   "source": [
    "veg = ['tomato', 'potato', 'cauliflower']"
   ]
  },
  {
   "cell_type": "code",
   "execution_count": 18,
   "id": "homeless-championship",
   "metadata": {},
   "outputs": [
    {
     "name": "stdout",
     "output_type": "stream",
     "text": [
      "tomato\n",
      "potato\n",
      "cauliflower\n"
     ]
    }
   ],
   "source": [
    "for v in veg:\n",
    "    print(v)"
   ]
  },
  {
   "cell_type": "code",
   "execution_count": 23,
   "id": "twelve-slovenia",
   "metadata": {},
   "outputs": [
    {
     "name": "stdout",
     "output_type": "stream",
     "text": [
      "a\n"
     ]
    },
    {
     "ename": "AttributeError",
     "evalue": "'str' object has no attribute 'values'",
     "output_type": "error",
     "traceback": [
      "\u001b[1;31m---------------------------------------------------------------------------\u001b[0m",
      "\u001b[1;31mAttributeError\u001b[0m                            Traceback (most recent call last)",
      "\u001b[1;32m<ipython-input-23-a4ccb6be88b0>\u001b[0m in \u001b[0;36m<module>\u001b[1;34m()\u001b[0m\n\u001b[0;32m      2\u001b[0m \u001b[1;32mfor\u001b[0m \u001b[0mletter\u001b[0m \u001b[1;32min\u001b[0m \u001b[0mdict\u001b[0m\u001b[1;33m:\u001b[0m\u001b[1;33m\u001b[0m\u001b[1;33m\u001b[0m\u001b[0m\n\u001b[0;32m      3\u001b[0m     \u001b[0mprint\u001b[0m\u001b[1;33m(\u001b[0m\u001b[0mletter\u001b[0m\u001b[1;33m)\u001b[0m\u001b[1;33m\u001b[0m\u001b[1;33m\u001b[0m\u001b[0m\n\u001b[1;32m----> 4\u001b[1;33m     \u001b[0mprint\u001b[0m\u001b[1;33m(\u001b[0m\u001b[0mletter\u001b[0m\u001b[1;33m.\u001b[0m\u001b[0mvalues\u001b[0m\u001b[1;33m)\u001b[0m\u001b[1;33m\u001b[0m\u001b[1;33m\u001b[0m\u001b[0m\n\u001b[0m",
      "\u001b[1;31mAttributeError\u001b[0m: 'str' object has no attribute 'values'"
     ]
    }
   ],
   "source": [
    "dict = {'a': 'A', 'b': 'B', 'c': 'C', 'd': 'D'}\n",
    "for letter in dict:\n",
    "    print(letter)\n",
    "    print(letter.values)"
   ]
  },
  {
   "cell_type": "code",
   "execution_count": 26,
   "id": "novel-confusion",
   "metadata": {},
   "outputs": [
    {
     "name": "stdout",
     "output_type": "stream",
     "text": [
      "A\n",
      "B\n",
      "C\n",
      "D\n"
     ]
    }
   ],
   "source": [
    "dict = {'a': 'A', 'b': 'B', 'c': 'C', 'd': 'D'}\n",
    "for letter in dict.values():\n",
    "    print(letter)"
   ]
  },
  {
   "cell_type": "code",
   "execution_count": 29,
   "id": "spread-marathon",
   "metadata": {},
   "outputs": [
    {
     "name": "stdout",
     "output_type": "stream",
     "text": [
      "10 x 1 = 10\n"
     ]
    }
   ],
   "source": [
    "m = 1\n",
    "n = 10\n",
    "while m <= 10: # True/False\n",
    "    print(n, 'x', m, '=', n*m)\n",
    "    m = m + 1"
   ]
  },
  {
   "cell_type": "code",
   "execution_count": 30,
   "id": "worst-happiness",
   "metadata": {},
   "outputs": [
    {
     "name": "stdout",
     "output_type": "stream",
     "text": [
      "1\n",
      "3\n",
      "5\n",
      "7\n"
     ]
    }
   ],
   "source": [
    "numbers = [1, 3, 5, 7, 9, 11]\n",
    "for n in numbers:\n",
    "    if n < 9:\n",
    "        print(n)"
   ]
  },
  {
   "cell_type": "code",
   "execution_count": 31,
   "id": "static-preview",
   "metadata": {},
   "outputs": [],
   "source": [
    "# Function\n",
    "def my_pet(name):    # parameter\n",
    "    return name    # output"
   ]
  },
  {
   "cell_type": "code",
   "execution_count": 37,
   "id": "headed-calibration",
   "metadata": {},
   "outputs": [
    {
     "data": {
      "text/plain": [
       "'tiger'"
      ]
     },
     "execution_count": 37,
     "metadata": {},
     "output_type": "execute_result"
    }
   ],
   "source": [
    "# calling the function\n",
    "t = my_pet(\"tiger\")\n",
    "t"
   ]
  },
  {
   "cell_type": "code",
   "execution_count": 33,
   "id": "august-latter",
   "metadata": {},
   "outputs": [
    {
     "data": {
      "text/plain": [
       "'tom'"
      ]
     },
     "execution_count": 33,
     "metadata": {},
     "output_type": "execute_result"
    }
   ],
   "source": [
    "my_pet(\"tom\")"
   ]
  },
  {
   "cell_type": "code",
   "execution_count": 35,
   "id": "olive-economics",
   "metadata": {},
   "outputs": [],
   "source": [
    "# Function\n",
    "def country():    # parameter\n",
    "    print(\"BD\")\n",
    "    print(\"Bangla\")\n",
    "    print(\"CSA\")"
   ]
  },
  {
   "cell_type": "code",
   "execution_count": 36,
   "id": "accepting-practice",
   "metadata": {},
   "outputs": [
    {
     "name": "stdout",
     "output_type": "stream",
     "text": [
      "BD\n",
      "Bangla\n",
      "CSA\n"
     ]
    }
   ],
   "source": [
    "country()"
   ]
  },
  {
   "cell_type": "code",
   "execution_count": 39,
   "id": "practical-least",
   "metadata": {},
   "outputs": [
    {
     "name": "stdout",
     "output_type": "stream",
     "text": [
      "BD\n",
      "Bangla\n",
      "CSA\n"
     ]
    }
   ],
   "source": [
    "c = country()"
   ]
  },
  {
   "cell_type": "code",
   "execution_count": 48,
   "id": "ahead-brain",
   "metadata": {},
   "outputs": [],
   "source": [
    "def my_pet(name, age, color='red'):    # parameter\n",
    "    return name, age, color    # output"
   ]
  },
  {
   "cell_type": "code",
   "execution_count": 43,
   "id": "subtle-resort",
   "metadata": {},
   "outputs": [],
   "source": [
    "name, age, color = my_pet('a', 18, 'blue')"
   ]
  },
  {
   "cell_type": "code",
   "execution_count": 44,
   "id": "broke-kingdom",
   "metadata": {},
   "outputs": [
    {
     "data": {
      "text/plain": [
       "18"
      ]
     },
     "execution_count": 44,
     "metadata": {},
     "output_type": "execute_result"
    }
   ],
   "source": [
    "age"
   ]
  },
  {
   "cell_type": "code",
   "execution_count": 45,
   "id": "fatty-adobe",
   "metadata": {},
   "outputs": [
    {
     "data": {
      "text/plain": [
       "('a', 18, 'blue')"
      ]
     },
     "execution_count": 45,
     "metadata": {},
     "output_type": "execute_result"
    }
   ],
   "source": [
    "tup = my_pet('a', 18, 'blue')\n",
    "tup"
   ]
  },
  {
   "cell_type": "code",
   "execution_count": 50,
   "id": "enabling-detail",
   "metadata": {},
   "outputs": [
    {
     "data": {
      "text/plain": [
       "('a', 18, 'yellow')"
      ]
     },
     "execution_count": 50,
     "metadata": {},
     "output_type": "execute_result"
    }
   ],
   "source": [
    "my_pet('a', 18, 'yellow')"
   ]
  },
  {
   "cell_type": "code",
   "execution_count": 53,
   "id": "neutral-twist",
   "metadata": {},
   "outputs": [
    {
     "name": "stdout",
     "output_type": "stream",
     "text": [
      "12\n"
     ]
    }
   ],
   "source": [
    "def numbers(n): # n = 16\n",
    "    n = 12    # local\n",
    "    return n\n",
    "\n",
    "n = 14    # global"
   ]
  },
  {
   "cell_type": "code",
   "execution_count": 55,
   "id": "behavioral-charlotte",
   "metadata": {},
   "outputs": [
    {
     "name": "stdout",
     "output_type": "stream",
     "text": [
      "0\n",
      "1\n",
      "2\n",
      "3\n",
      "4\n"
     ]
    }
   ],
   "source": [
    "def numbers(i): # n = 16\n",
    "    i = 12    # local\n",
    "    return i\n",
    "\n",
    "for i in range(5):\n",
    "    print(i)"
   ]
  },
  {
   "cell_type": "code",
   "execution_count": 57,
   "id": "related-spring",
   "metadata": {},
   "outputs": [
    {
     "name": "stdout",
     "output_type": "stream",
     "text": [
      "10\n",
      "21\n"
     ]
    }
   ],
   "source": [
    "def numbers(i): # i = 16\n",
    "    i += 1 # i = i + 1\n",
    "    return i\n",
    "\n",
    "i = 10\n",
    "print(i)\n",
    "\n",
    "print(numbers(20))"
   ]
  },
  {
   "cell_type": "code",
   "execution_count": 59,
   "id": "middle-yemen",
   "metadata": {},
   "outputs": [
    {
     "data": {
      "text/plain": [
       "25"
      ]
     },
     "execution_count": 59,
     "metadata": {},
     "output_type": "execute_result"
    }
   ],
   "source": [
    "# Lambda FUnction\n",
    "def add(a, b):\n",
    "    return a+b\n",
    "\n",
    "sum = add(10, 15)\n",
    "sum"
   ]
  },
  {
   "cell_type": "code",
   "execution_count": 64,
   "id": "alive-letter",
   "metadata": {},
   "outputs": [
    {
     "data": {
      "text/plain": [
       "<function __main__.<lambda>>"
      ]
     },
     "execution_count": 64,
     "metadata": {},
     "output_type": "execute_result"
    }
   ],
   "source": [
    "lambda_add = lambda a,b : a+b\n",
    "lambda_add"
   ]
  },
  {
   "cell_type": "code",
   "execution_count": 65,
   "id": "identical-perry",
   "metadata": {},
   "outputs": [
    {
     "data": {
      "text/plain": [
       "25"
      ]
     },
     "execution_count": 65,
     "metadata": {},
     "output_type": "execute_result"
    }
   ],
   "source": [
    "lambda_add(10, 15)"
   ]
  },
  {
   "cell_type": "code",
   "execution_count": 77,
   "id": "frank-gasoline",
   "metadata": {},
   "outputs": [
    {
     "name": "stdout",
     "output_type": "stream",
     "text": [
      "{1, 4, 9, 16, 25}\n"
     ]
    }
   ],
   "source": [
    "# Map -> Built-in Function\n",
    "l = [1, 2, 3, 4, 5]\n",
    "square = lambda n : n*n\n",
    "\n",
    "new = map(square, l)\n",
    "m = set(new)     # list\n",
    "print(m)"
   ]
  },
  {
   "cell_type": "code",
   "execution_count": 78,
   "id": "eastern-saskatchewan",
   "metadata": {},
   "outputs": [
    {
     "name": "stdout",
     "output_type": "stream",
     "text": [
      "1\n",
      "4\n",
      "9\n",
      "16\n",
      "25\n"
     ]
    }
   ],
   "source": [
    "for i in l:\n",
    "    print(i*i)"
   ]
  },
  {
   "cell_type": "code",
   "execution_count": null,
   "id": "statistical-dutch",
   "metadata": {},
   "outputs": [],
   "source": []
  }
 ],
 "metadata": {
  "kernelspec": {
   "display_name": "Python 3",
   "language": "python",
   "name": "python3"
  },
  "language_info": {
   "codemirror_mode": {
    "name": "ipython",
    "version": 3
   },
   "file_extension": ".py",
   "mimetype": "text/x-python",
   "name": "python",
   "nbconvert_exporter": "python",
   "pygments_lexer": "ipython3",
   "version": "3.7.9"
  }
 },
 "nbformat": 4,
 "nbformat_minor": 5
}

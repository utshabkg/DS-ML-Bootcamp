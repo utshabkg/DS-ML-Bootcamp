{
 "cells": [
  {
   "cell_type": "code",
   "execution_count": 12,
   "id": "tested-interpretation",
   "metadata": {},
   "outputs": [
    {
     "name": "stdout",
     "output_type": "stream",
     "text": [
      "5 10\n"
     ]
    }
   ],
   "source": [
    "a = 5\n",
    "b = 10\n",
    "print(a, b)"
   ]
  },
  {
   "cell_type": "code",
   "execution_count": 11,
   "id": "cordless-cookie",
   "metadata": {},
   "outputs": [
    {
     "data": {
      "text/plain": [
       "2.12"
      ]
     },
     "execution_count": 11,
     "metadata": {},
     "output_type": "execute_result"
    }
   ],
   "source": [
    "b/a # //Floor Division"
   ]
  },
  {
   "cell_type": "code",
   "execution_count": 13,
   "id": "double-revelation",
   "metadata": {},
   "outputs": [
    {
     "data": {
      "text/plain": [
       "0"
      ]
     },
     "execution_count": 13,
     "metadata": {},
     "output_type": "execute_result"
    }
   ],
   "source": [
    "b%a"
   ]
  },
  {
   "cell_type": "code",
   "execution_count": 14,
   "id": "selected-china",
   "metadata": {},
   "outputs": [
    {
     "data": {
      "text/plain": [
       "100"
      ]
     },
     "execution_count": 14,
     "metadata": {},
     "output_type": "execute_result"
    }
   ],
   "source": [
    "# Exponent\n",
    "b**2"
   ]
  },
  {
   "cell_type": "markdown",
   "id": "changed-mongolia",
   "metadata": {},
   "source": [
    "### Comparison"
   ]
  },
  {
   "cell_type": "code",
   "execution_count": 15,
   "id": "instructional-progress",
   "metadata": {},
   "outputs": [
    {
     "data": {
      "text/plain": [
       "False"
      ]
     },
     "execution_count": 15,
     "metadata": {},
     "output_type": "execute_result"
    }
   ],
   "source": [
    "a==b"
   ]
  },
  {
   "cell_type": "code",
   "execution_count": 16,
   "id": "infrared-angel",
   "metadata": {},
   "outputs": [
    {
     "data": {
      "text/plain": [
       "True"
      ]
     },
     "execution_count": 16,
     "metadata": {},
     "output_type": "execute_result"
    }
   ],
   "source": [
    "a!=b"
   ]
  },
  {
   "cell_type": "code",
   "execution_count": 17,
   "id": "rubber-rachel",
   "metadata": {},
   "outputs": [
    {
     "data": {
      "text/plain": [
       "False"
      ]
     },
     "execution_count": 17,
     "metadata": {},
     "output_type": "execute_result"
    }
   ],
   "source": [
    "a>b"
   ]
  },
  {
   "cell_type": "code",
   "execution_count": 18,
   "id": "laden-rough",
   "metadata": {},
   "outputs": [
    {
     "data": {
      "text/plain": [
       "True"
      ]
     },
     "execution_count": 18,
     "metadata": {},
     "output_type": "execute_result"
    }
   ],
   "source": [
    "a<b"
   ]
  },
  {
   "cell_type": "code",
   "execution_count": 19,
   "id": "dressed-august",
   "metadata": {},
   "outputs": [
    {
     "data": {
      "text/plain": [
       "False"
      ]
     },
     "execution_count": 19,
     "metadata": {},
     "output_type": "execute_result"
    }
   ],
   "source": [
    "a>=b"
   ]
  },
  {
   "cell_type": "markdown",
   "id": "dense-commissioner",
   "metadata": {},
   "source": [
    "### Logical"
   ]
  },
  {
   "cell_type": "code",
   "execution_count": 20,
   "id": "latest-tamil",
   "metadata": {},
   "outputs": [
    {
     "data": {
      "text/plain": [
       "False"
      ]
     },
     "execution_count": 20,
     "metadata": {},
     "output_type": "execute_result"
    }
   ],
   "source": [
    "x = 4\n",
    "y = 4\n",
    "z = 6\n",
    "\n",
    "x == y and y == z"
   ]
  },
  {
   "cell_type": "code",
   "execution_count": 22,
   "id": "extended-chuck",
   "metadata": {},
   "outputs": [
    {
     "data": {
      "text/plain": [
       "True"
      ]
     },
     "execution_count": 22,
     "metadata": {},
     "output_type": "execute_result"
    }
   ],
   "source": [
    "x == y or y == z"
   ]
  },
  {
   "cell_type": "code",
   "execution_count": 23,
   "id": "olive-hierarchy",
   "metadata": {},
   "outputs": [
    {
     "data": {
      "text/plain": [
       "False"
      ]
     },
     "execution_count": 23,
     "metadata": {},
     "output_type": "execute_result"
    }
   ],
   "source": [
    "not (x == y)"
   ]
  },
  {
   "cell_type": "markdown",
   "id": "prospective-seafood",
   "metadata": {},
   "source": [
    "### Membership"
   ]
  },
  {
   "cell_type": "code",
   "execution_count": 27,
   "id": "regulation-vanilla",
   "metadata": {},
   "outputs": [
    {
     "data": {
      "text/plain": [
       "False"
      ]
     },
     "execution_count": 27,
     "metadata": {},
     "output_type": "execute_result"
    }
   ],
   "source": [
    "\"desh\" not in \"Bangladesh\""
   ]
  },
  {
   "cell_type": "markdown",
   "id": "soviet-recording",
   "metadata": {},
   "source": [
    "### Identity"
   ]
  },
  {
   "cell_type": "code",
   "execution_count": 28,
   "id": "violent-springfield",
   "metadata": {},
   "outputs": [
    {
     "data": {
      "text/plain": [
       "False"
      ]
     },
     "execution_count": 28,
     "metadata": {},
     "output_type": "execute_result"
    }
   ],
   "source": [
    "a is b"
   ]
  },
  {
   "cell_type": "markdown",
   "id": "annual-steering",
   "metadata": {},
   "source": [
    "## Data Structures"
   ]
  },
  {
   "cell_type": "code",
   "execution_count": 30,
   "id": "divine-storm",
   "metadata": {},
   "outputs": [],
   "source": [
    "# List\n",
    "list_1 = ['BUET', 'RUET', 'EWU', 'Brac']\n",
    "list_2 = [1, 2, 3, 4]"
   ]
  },
  {
   "cell_type": "code",
   "execution_count": 33,
   "id": "spoken-center",
   "metadata": {},
   "outputs": [
    {
     "ename": "IndexError",
     "evalue": "list index out of range",
     "output_type": "error",
     "traceback": [
      "\u001b[1;31m---------------------------------------------------------------------------\u001b[0m",
      "\u001b[1;31mIndexError\u001b[0m                                Traceback (most recent call last)",
      "\u001b[1;32m<ipython-input-33-c1591a3b4829>\u001b[0m in \u001b[0;36m<module>\u001b[1;34m()\u001b[0m\n\u001b[1;32m----> 1\u001b[1;33m \u001b[0mlist_1\u001b[0m\u001b[1;33m[\u001b[0m\u001b[1;36m4\u001b[0m\u001b[1;33m]\u001b[0m\u001b[1;33m\u001b[0m\u001b[1;33m\u001b[0m\u001b[0m\n\u001b[0m",
      "\u001b[1;31mIndexError\u001b[0m: list index out of range"
     ]
    }
   ],
   "source": [
    "list_1[4]"
   ]
  },
  {
   "cell_type": "code",
   "execution_count": 36,
   "id": "alien-intent",
   "metadata": {},
   "outputs": [
    {
     "data": {
      "text/plain": [
       "['BUET', 'RUET', 'EWU']"
      ]
     },
     "execution_count": 36,
     "metadata": {},
     "output_type": "execute_result"
    }
   ],
   "source": [
    "list_1[:3] #slicing lower<=index<upper"
   ]
  },
  {
   "cell_type": "code",
   "execution_count": 37,
   "id": "improved-october",
   "metadata": {},
   "outputs": [
    {
     "data": {
      "text/plain": [
       "['RUET', 'EWU', 'Brac']"
      ]
     },
     "execution_count": 37,
     "metadata": {},
     "output_type": "execute_result"
    }
   ],
   "source": [
    "list_1[1:]"
   ]
  },
  {
   "cell_type": "code",
   "execution_count": 40,
   "id": "detected-vietnamese",
   "metadata": {},
   "outputs": [
    {
     "data": {
      "text/plain": [
       "['BUET', 'RUET', 'EWU', 'Brac', 'NSU']"
      ]
     },
     "execution_count": 40,
     "metadata": {},
     "output_type": "execute_result"
    }
   ],
   "source": [
    "# update list\n",
    "list_1.append('NSU')\n",
    "list_1"
   ]
  },
  {
   "cell_type": "code",
   "execution_count": 41,
   "id": "infrared-knitting",
   "metadata": {},
   "outputs": [
    {
     "data": {
      "text/plain": [
       "['BUET', 'RUET', 'KUET', 'EWU', 'Brac', 'NSU']"
      ]
     },
     "execution_count": 41,
     "metadata": {},
     "output_type": "execute_result"
    }
   ],
   "source": [
    "list_1.insert(2, 'KUET')\n",
    "list_1"
   ]
  },
  {
   "cell_type": "code",
   "execution_count": 42,
   "id": "national-speaker",
   "metadata": {},
   "outputs": [
    {
     "data": {
      "text/plain": [
       "['BUET', 'RUET', 'KUET', 'EWU', 'Brac', 'NSU', 10, 20]"
      ]
     },
     "execution_count": 42,
     "metadata": {},
     "output_type": "execute_result"
    }
   ],
   "source": [
    "list_1.extend([10, 20])\n",
    "list_1"
   ]
  },
  {
   "cell_type": "code",
   "execution_count": 43,
   "id": "competent-presence",
   "metadata": {},
   "outputs": [
    {
     "data": {
      "text/plain": [
       "['BUET', 'RUET', 'KUET', 'EWU', 'Brac', 'NSU', 10, 20, 1, 2, 3, 4]"
      ]
     },
     "execution_count": 43,
     "metadata": {},
     "output_type": "execute_result"
    }
   ],
   "source": [
    "list_1.extend(list_2)\n",
    "list_1"
   ]
  },
  {
   "cell_type": "code",
   "execution_count": 44,
   "id": "revised-greeting",
   "metadata": {},
   "outputs": [
    {
     "data": {
      "text/plain": [
       "['BUET', 'RUET', 'KUET', 'EWU', 'Brac', 'NSU', 10, 20, 1, 2, 3, 4, 1, 2, 3, 4]"
      ]
     },
     "execution_count": 44,
     "metadata": {},
     "output_type": "execute_result"
    }
   ],
   "source": [
    "list_1 + list_2"
   ]
  },
  {
   "cell_type": "code",
   "execution_count": 45,
   "id": "competent-labor",
   "metadata": {},
   "outputs": [],
   "source": [
    "# Remove items\n",
    "del list_1[7:]"
   ]
  },
  {
   "cell_type": "code",
   "execution_count": 46,
   "id": "fatal-criterion",
   "metadata": {},
   "outputs": [
    {
     "data": {
      "text/plain": [
       "['BUET', 'RUET', 'KUET', 'EWU', 'Brac', 'NSU', 10]"
      ]
     },
     "execution_count": 46,
     "metadata": {},
     "output_type": "execute_result"
    }
   ],
   "source": [
    "list_1"
   ]
  },
  {
   "cell_type": "code",
   "execution_count": 47,
   "id": "suburban-outside",
   "metadata": {},
   "outputs": [
    {
     "data": {
      "text/plain": [
       "['BUET', 'RUET', 'KUET', 'EWU', 'Brac', 'NSU']"
      ]
     },
     "execution_count": 47,
     "metadata": {},
     "output_type": "execute_result"
    }
   ],
   "source": [
    "list_1.remove(10)\n",
    "list_1"
   ]
  },
  {
   "cell_type": "code",
   "execution_count": 48,
   "id": "mexican-partnership",
   "metadata": {},
   "outputs": [
    {
     "data": {
      "text/plain": [
       "['BUET', 'RUET', 'KUET', 'EWU', 'NSU']"
      ]
     },
     "execution_count": 48,
     "metadata": {},
     "output_type": "execute_result"
    }
   ],
   "source": [
    "del list_1[-2]\n",
    "list_1"
   ]
  },
  {
   "cell_type": "code",
   "execution_count": 49,
   "id": "adapted-right",
   "metadata": {},
   "outputs": [
    {
     "data": {
      "text/plain": [
       "'NSU'"
      ]
     },
     "execution_count": 49,
     "metadata": {},
     "output_type": "execute_result"
    }
   ],
   "source": [
    "list_1.pop()"
   ]
  },
  {
   "cell_type": "code",
   "execution_count": 50,
   "id": "current-great",
   "metadata": {},
   "outputs": [
    {
     "data": {
      "text/plain": [
       "['BUET', 'RUET', 'KUET', 'EWU']"
      ]
     },
     "execution_count": 50,
     "metadata": {},
     "output_type": "execute_result"
    }
   ],
   "source": [
    "list_1"
   ]
  },
  {
   "cell_type": "code",
   "execution_count": 51,
   "id": "tutorial-savage",
   "metadata": {},
   "outputs": [
    {
     "data": {
      "text/plain": [
       "['BUET', 'RUET', 'KUET', 'EWU', 'RUET', 'RUET']"
      ]
     },
     "execution_count": 51,
     "metadata": {},
     "output_type": "execute_result"
    }
   ],
   "source": [
    "list_1 += ['RUET', 'RUET']  # list_1 = list_1 + ['RUET', 'RUET'] \n",
    "list_1"
   ]
  },
  {
   "cell_type": "code",
   "execution_count": 52,
   "id": "inner-venture",
   "metadata": {},
   "outputs": [
    {
     "data": {
      "text/plain": [
       "3"
      ]
     },
     "execution_count": 52,
     "metadata": {},
     "output_type": "execute_result"
    }
   ],
   "source": [
    "list_1.count('RUET')"
   ]
  },
  {
   "cell_type": "code",
   "execution_count": 53,
   "id": "demonstrated-water",
   "metadata": {},
   "outputs": [
    {
     "data": {
      "text/plain": [
       "['a', 'b', 'c', 'e']"
      ]
     },
     "execution_count": 53,
     "metadata": {},
     "output_type": "execute_result"
    }
   ],
   "source": [
    "list_3 = ['b', 'c', 'e', 'a']\n",
    "sorted(list_3)"
   ]
  },
  {
   "cell_type": "markdown",
   "id": "suspended-december",
   "metadata": {},
   "source": [
    "### Tuple"
   ]
  },
  {
   "cell_type": "code",
   "execution_count": 54,
   "id": "alternate-winner",
   "metadata": {},
   "outputs": [],
   "source": [
    "tup = ('a', 'b', 'c', 'd')"
   ]
  },
  {
   "cell_type": "code",
   "execution_count": 55,
   "id": "united-kingdom",
   "metadata": {},
   "outputs": [
    {
     "data": {
      "text/plain": [
       "(list, tuple)"
      ]
     },
     "execution_count": 55,
     "metadata": {},
     "output_type": "execute_result"
    }
   ],
   "source": [
    "type(list_1), type(tup)"
   ]
  },
  {
   "cell_type": "code",
   "execution_count": 56,
   "id": "touched-census",
   "metadata": {},
   "outputs": [
    {
     "data": {
      "text/plain": [
       "'BUET'"
      ]
     },
     "execution_count": 56,
     "metadata": {},
     "output_type": "execute_result"
    }
   ],
   "source": [
    "list_1[0]"
   ]
  },
  {
   "cell_type": "code",
   "execution_count": 58,
   "id": "transparent-rebecca",
   "metadata": {},
   "outputs": [
    {
     "data": {
      "text/plain": [
       "['DU', 'RUET', 'KUET', 'EWU', 'RUET', 'RUET']"
      ]
     },
     "execution_count": 58,
     "metadata": {},
     "output_type": "execute_result"
    }
   ],
   "source": [
    "list_1[0] = 'DU'\n",
    "list_1"
   ]
  },
  {
   "cell_type": "code",
   "execution_count": 59,
   "id": "interior-impossible",
   "metadata": {},
   "outputs": [
    {
     "ename": "TypeError",
     "evalue": "'tuple' object does not support item assignment",
     "output_type": "error",
     "traceback": [
      "\u001b[1;31m---------------------------------------------------------------------------\u001b[0m",
      "\u001b[1;31mTypeError\u001b[0m                                 Traceback (most recent call last)",
      "\u001b[1;32m<ipython-input-59-81eed246e9f5>\u001b[0m in \u001b[0;36m<module>\u001b[1;34m()\u001b[0m\n\u001b[1;32m----> 1\u001b[1;33m \u001b[0mtup\u001b[0m\u001b[1;33m[\u001b[0m\u001b[1;36m0\u001b[0m\u001b[1;33m]\u001b[0m \u001b[1;33m=\u001b[0m \u001b[1;34m'z'\u001b[0m\u001b[1;33m\u001b[0m\u001b[1;33m\u001b[0m\u001b[0m\n\u001b[0m\u001b[0;32m      2\u001b[0m \u001b[0mtup\u001b[0m\u001b[1;33m\u001b[0m\u001b[1;33m\u001b[0m\u001b[0m\n",
      "\u001b[1;31mTypeError\u001b[0m: 'tuple' object does not support item assignment"
     ]
    }
   ],
   "source": [
    "tup[0] = 'z'\n",
    "tup"
   ]
  },
  {
   "cell_type": "code",
   "execution_count": 65,
   "id": "diverse-sharing",
   "metadata": {},
   "outputs": [
    {
     "data": {
      "text/plain": [
       "('a', 'b', 'c', 'd', 'e')"
      ]
     },
     "execution_count": 65,
     "metadata": {},
     "output_type": "execute_result"
    }
   ],
   "source": [
    "tup + ('e',)"
   ]
  },
  {
   "cell_type": "code",
   "execution_count": 67,
   "id": "separate-citation",
   "metadata": {},
   "outputs": [
    {
     "data": {
      "text/plain": [
       "('a', 'b', 'c', 'd', 'e')"
      ]
     },
     "execution_count": 67,
     "metadata": {},
     "output_type": "execute_result"
    }
   ],
   "source": [
    "tup = tup + ('e',)\n",
    "tup"
   ]
  },
  {
   "cell_type": "code",
   "execution_count": 68,
   "id": "smaller-thing",
   "metadata": {},
   "outputs": [
    {
     "data": {
      "text/plain": [
       "5"
      ]
     },
     "execution_count": 68,
     "metadata": {},
     "output_type": "execute_result"
    }
   ],
   "source": [
    "len(tup)"
   ]
  },
  {
   "cell_type": "markdown",
   "id": "mexican-remedy",
   "metadata": {},
   "source": [
    "### Dictionary"
   ]
  },
  {
   "cell_type": "code",
   "execution_count": 69,
   "id": "terminal-division",
   "metadata": {},
   "outputs": [
    {
     "data": {
      "text/plain": [
       "'EWU'"
      ]
     },
     "execution_count": 69,
     "metadata": {},
     "output_type": "execute_result"
    }
   ],
   "source": [
    "dict = {'b': 'BUET', 'r': 'RUET', 'k': 'KUET', 'e': 'EWU', 'n': 'NSU'}\n",
    "dict['e']"
   ]
  },
  {
   "cell_type": "code",
   "execution_count": 70,
   "id": "coated-navigation",
   "metadata": {},
   "outputs": [
    {
     "data": {
      "text/plain": [
       "{'b': 'BUET', 'e': 'EWU', 'k': 'KUET', 'n': 'NSU', 'r': 'RU'}"
      ]
     },
     "execution_count": 70,
     "metadata": {},
     "output_type": "execute_result"
    }
   ],
   "source": [
    "dict['r'] = 'RU' # update\n",
    "dict"
   ]
  },
  {
   "cell_type": "code",
   "execution_count": 71,
   "id": "spectacular-council",
   "metadata": {},
   "outputs": [
    {
     "data": {
      "text/plain": [
       "{'b': 'BUET', 'e': 'EWU', 'k': 'KUET', 'n': 'NSU', 'r': 'RU', 'rt': 'RUET'}"
      ]
     },
     "execution_count": 71,
     "metadata": {},
     "output_type": "execute_result"
    }
   ],
   "source": [
    "dict['rt'] = 'RUET' # update\n",
    "dict"
   ]
  },
  {
   "cell_type": "code",
   "execution_count": 73,
   "id": "prescription-disease",
   "metadata": {},
   "outputs": [
    {
     "data": {
      "text/plain": [
       "dict_keys(['b', 'r', 'k', 'e', 'n', 'rt'])"
      ]
     },
     "execution_count": 73,
     "metadata": {},
     "output_type": "execute_result"
    }
   ],
   "source": [
    "dict.keys()"
   ]
  },
  {
   "cell_type": "code",
   "execution_count": 74,
   "id": "forbidden-shield",
   "metadata": {},
   "outputs": [
    {
     "data": {
      "text/plain": [
       "dict_values(['BUET', 'RU', 'KUET', 'EWU', 'NSU', 'RUET'])"
      ]
     },
     "execution_count": 74,
     "metadata": {},
     "output_type": "execute_result"
    }
   ],
   "source": [
    "dict.values()"
   ]
  },
  {
   "cell_type": "code",
   "execution_count": 76,
   "id": "agreed-amplifier",
   "metadata": {},
   "outputs": [
    {
     "data": {
      "text/plain": [
       "{1, 2, 3, 4, 9}"
      ]
     },
     "execution_count": 76,
     "metadata": {},
     "output_type": "execute_result"
    }
   ],
   "source": [
    "# set\n",
    "s = {9, 1, 2, 3, 4, 4, 4}\n",
    "s"
   ]
  },
  {
   "cell_type": "code",
   "execution_count": 77,
   "id": "false-composition",
   "metadata": {},
   "outputs": [
    {
     "ename": "TypeError",
     "evalue": "'set' object is not subscriptable",
     "output_type": "error",
     "traceback": [
      "\u001b[1;31m---------------------------------------------------------------------------\u001b[0m",
      "\u001b[1;31mTypeError\u001b[0m                                 Traceback (most recent call last)",
      "\u001b[1;32m<ipython-input-77-f8bb2b116405>\u001b[0m in \u001b[0;36m<module>\u001b[1;34m()\u001b[0m\n\u001b[1;32m----> 1\u001b[1;33m \u001b[0ms\u001b[0m\u001b[1;33m[\u001b[0m\u001b[1;36m1\u001b[0m\u001b[1;33m]\u001b[0m\u001b[1;33m\u001b[0m\u001b[1;33m\u001b[0m\u001b[0m\n\u001b[0m",
      "\u001b[1;31mTypeError\u001b[0m: 'set' object is not subscriptable"
     ]
    }
   ],
   "source": [
    "s[1]"
   ]
  },
  {
   "cell_type": "markdown",
   "id": "powerful-inside",
   "metadata": {},
   "source": [
    "## STring"
   ]
  },
  {
   "cell_type": "code",
   "execution_count": 82,
   "id": "intended-dance",
   "metadata": {},
   "outputs": [
    {
     "data": {
      "text/plain": [
       "\"Bangladesh is 'LOVE'. I love her\""
      ]
     },
     "execution_count": 82,
     "metadata": {},
     "output_type": "execute_result"
    }
   ],
   "source": [
    "string = \"Bangladesh is 'LOVE'. I love her.\"\n",
    "string"
   ]
  },
  {
   "cell_type": "code",
   "execution_count": 84,
   "id": "native-brick",
   "metadata": {},
   "outputs": [
    {
     "data": {
      "text/plain": [
       "\"Bangladesh is 'LOVE'. I love her.\""
      ]
     },
     "execution_count": 84,
     "metadata": {},
     "output_type": "execute_result"
    }
   ],
   "source": [
    "string = 'Bangladesh is \\'LOVE\\'. I love her.'\n",
    "string"
   ]
  },
  {
   "cell_type": "code",
   "execution_count": 93,
   "id": "painful-arbitration",
   "metadata": {},
   "outputs": [
    {
     "name": "stdout",
     "output_type": "stream",
     "text": [
      "Bangladesh is 'LOVE.  I love her.\n"
     ]
    }
   ],
   "source": [
    "print(\"Bangladesh is 'LOVE.\", end=\" \")\n",
    "print(\" I love her.\")"
   ]
  },
  {
   "cell_type": "code",
   "execution_count": 94,
   "id": "conscious-wagner",
   "metadata": {},
   "outputs": [
    {
     "name": "stdout",
     "output_type": "stream",
     "text": [
      "Bangladesh is 'LOVE.\t I love her.\n"
     ]
    }
   ],
   "source": [
    "print(\"Bangladesh is 'LOVE.\", end=\"\\t\")\n",
    "print(\" I love her.\")"
   ]
  },
  {
   "cell_type": "code",
   "execution_count": 97,
   "id": "apart-andrews",
   "metadata": {},
   "outputs": [
    {
     "data": {
      "text/plain": [
       "'angla'"
      ]
     },
     "execution_count": 97,
     "metadata": {},
     "output_type": "execute_result"
    }
   ],
   "source": [
    "string[1:6]"
   ]
  },
  {
   "cell_type": "code",
   "execution_count": 102,
   "id": "supreme-shopper",
   "metadata": {},
   "outputs": [
    {
     "name": "stdout",
     "output_type": "stream",
     "text": [
      "Area of BD is:  147570 sq. km.\n"
     ]
    }
   ],
   "source": [
    "n = 147570\n",
    "string_2 = \"Area of BD is: \"\n",
    "print(string_2, n, \"sq. km.\")"
   ]
  },
  {
   "cell_type": "code",
   "execution_count": 108,
   "id": "utility-potato",
   "metadata": {},
   "outputs": [
    {
     "name": "stdout",
     "output_type": "stream",
     "text": [
      "Area of BD is: 147570 sq. km.\n"
     ]
    }
   ],
   "source": [
    "print(f\"{string_2}{n} sq. km.\")"
   ]
  },
  {
   "cell_type": "code",
   "execution_count": 109,
   "id": "shaped-implementation",
   "metadata": {},
   "outputs": [
    {
     "data": {
      "text/plain": [
       "int"
      ]
     },
     "execution_count": 109,
     "metadata": {},
     "output_type": "execute_result"
    }
   ],
   "source": [
    "type(n)"
   ]
  },
  {
   "cell_type": "code",
   "execution_count": 114,
   "id": "incomplete-empty",
   "metadata": {},
   "outputs": [
    {
     "data": {
      "text/plain": [
       "'bangla-wash'"
      ]
     },
     "execution_count": 114,
     "metadata": {},
     "output_type": "execute_result"
    }
   ],
   "source": [
    "s1 = 'bangla'\n",
    "s2 = 'wash'\n",
    "washed = s1 + '-' + s2 # bangla-wash\n",
    "washed"
   ]
  },
  {
   "cell_type": "code",
   "execution_count": 112,
   "id": "secure-philadelphia",
   "metadata": {},
   "outputs": [
    {
     "data": {
      "text/plain": [
       "6"
      ]
     },
     "execution_count": 112,
     "metadata": {},
     "output_type": "execute_result"
    }
   ],
   "source": [
    "len(s1)"
   ]
  },
  {
   "cell_type": "code",
   "execution_count": 118,
   "id": "blond-salvation",
   "metadata": {},
   "outputs": [
    {
     "data": {
      "text/plain": [
       "['b', 'ngl', '-w', 'sh']"
      ]
     },
     "execution_count": 118,
     "metadata": {},
     "output_type": "execute_result"
    }
   ],
   "source": [
    "washed.split('a')"
   ]
  },
  {
   "cell_type": "code",
   "execution_count": 119,
   "id": "emotional-governor",
   "metadata": {},
   "outputs": [
    {
     "data": {
      "text/plain": [
       "7"
      ]
     },
     "execution_count": 119,
     "metadata": {},
     "output_type": "execute_result"
    }
   ],
   "source": [
    "washed.find(\"wash\")"
   ]
  },
  {
   "cell_type": "code",
   "execution_count": null,
   "id": "blind-israeli",
   "metadata": {},
   "outputs": [],
   "source": []
  }
 ],
 "metadata": {
  "kernelspec": {
   "display_name": "Python 3",
   "language": "python",
   "name": "python3"
  },
  "language_info": {
   "codemirror_mode": {
    "name": "ipython",
    "version": 3
   },
   "file_extension": ".py",
   "mimetype": "text/x-python",
   "name": "python",
   "nbconvert_exporter": "python",
   "pygments_lexer": "ipython3",
   "version": "3.7.9"
  }
 },
 "nbformat": 4,
 "nbformat_minor": 5
}

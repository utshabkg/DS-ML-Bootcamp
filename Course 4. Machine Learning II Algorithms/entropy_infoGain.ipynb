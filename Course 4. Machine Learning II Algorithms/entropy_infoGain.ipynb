{
 "cells": [
  {
   "cell_type": "code",
   "execution_count": 2,
   "id": "russian-computer",
   "metadata": {},
   "outputs": [],
   "source": [
    "import numpy as np\n",
    "import math"
   ]
  },
  {
   "cell_type": "code",
   "execution_count": 3,
   "id": "printable-bacon",
   "metadata": {},
   "outputs": [],
   "source": [
    "def calc_entropy(feature):\n",
    "    counts = np.bincount(feature)\n",
    "    probability = counts / len(feature)\n",
    "    \n",
    "    for prob in probability:\n",
    "        if prob > 0:\n",
    "            entropy += prob * math.log(prob, 2)\n",
    "            \n",
    "    return -entropy"
   ]
  },
  {
   "cell_type": "code",
   "execution_count": 4,
   "id": "dirty-print",
   "metadata": {},
   "outputs": [],
   "source": [
    "def info_gain(data, feature, target):\n",
    "    entropy_0 = calc_entropy(data[target])\n",
    "    values = data[feature].unique()\n",
    "    \n",
    "    left_split = data[data[feature] == values[0]]\n",
    "    right_split = data[data[feature] == values[1]]\n",
    "    \n",
    "    for subet in [left_split, right_split]:\n",
    "        prob = subset.shape[0] / data.shape[0]\n",
    "        entropy_feat += prob * calc_entropy(subset[target])\n",
    "        \n",
    "        return entropy_0 - entropy_feat"
   ]
  },
  {
   "cell_type": "code",
   "execution_count": null,
   "id": "sustainable-franklin",
   "metadata": {},
   "outputs": [],
   "source": [
    "features = ['Age', 'Education']\n",
    "\n"
   ]
  }
 ],
 "metadata": {
  "kernelspec": {
   "display_name": "Python 3",
   "language": "python",
   "name": "python3"
  },
  "language_info": {
   "codemirror_mode": {
    "name": "ipython",
    "version": 3
   },
   "file_extension": ".py",
   "mimetype": "text/x-python",
   "name": "python",
   "nbconvert_exporter": "python",
   "pygments_lexer": "ipython3",
   "version": "3.7.9"
  }
 },
 "nbformat": 4,
 "nbformat_minor": 5
}

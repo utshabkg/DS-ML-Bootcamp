{
 "cells": [
  {
   "cell_type": "code",
   "execution_count": null,
   "id": "corrected-chocolate",
   "metadata": {},
   "outputs": [],
   "source": [
    "import tensorflow as tf\n",
    "from tensorflow.keras import layers\n",
    "from tensorflow.keras import initializerszers\n",
    "\n",
    "initializer= tf.keras.initializers.zeros()\n",
    "initializer= tf.keras.initializers.RandomNormal(mean=0., stddev=1.)\n",
    "initializer= tf.keras.initializers.GlorotUniform()\n",
    "\n",
    "layer = tf.keras.layers.Dense(\n",
    "    32, kernel_initializer=initializer)"
   ]
  }
 ],
 "metadata": {
  "kernelspec": {
   "display_name": "Python 3",
   "language": "python",
   "name": "python3"
  },
  "language_info": {
   "codemirror_mode": {
    "name": "ipython",
    "version": 3
   },
   "file_extension": ".py",
   "mimetype": "text/x-python",
   "name": "python",
   "nbconvert_exporter": "python",
   "pygments_lexer": "ipython3",
   "version": "3.7.9"
  }
 },
 "nbformat": 4,
 "nbformat_minor": 5
}

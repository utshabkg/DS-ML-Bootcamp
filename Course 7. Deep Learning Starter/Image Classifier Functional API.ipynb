{
 "cells": [
  {
   "cell_type": "code",
   "execution_count": 1,
   "id": "bottom-combining",
   "metadata": {},
   "outputs": [],
   "source": [
    "import tensorflow as tf"
   ]
  },
  {
   "cell_type": "code",
   "execution_count": 4,
   "id": "extra-pricing",
   "metadata": {},
   "outputs": [],
   "source": [
    "fashion_mnist = tf.keras.datasets.fashion_mnist.load_data()"
   ]
  },
  {
   "cell_type": "code",
   "execution_count": 5,
   "id": "purple-outdoors",
   "metadata": {},
   "outputs": [],
   "source": [
    "(X_train_full, y_train_full), (X_test, y_test) = fashion_mnist\n",
    "X_train, y_train = X_train_full[: -5000], y_train_full[: -5000]\n",
    "X_valid, y_valid = X_train_full[-5000: ], y_train_full[-5000: ]"
   ]
  },
  {
   "cell_type": "code",
   "execution_count": 9,
   "id": "aboriginal-forum",
   "metadata": {},
   "outputs": [],
   "source": [
    "input_ = tf.keras.layers.Input(shape = X_train.shape[1:])\n",
    "hidden1 = tf.keras.layers.Dense(30, activation='relu')(input_)\n",
    "hidden2 = tf.keras.layers.Dense(30, activation='relu')(hidden1)\n",
    "\n",
    "concat = tf.keras.layers.Concatenate() ([input_, hidden2])\n",
    "output = tf.keras.layers.Dense(1)(concat)\n",
    "model = tf.keras.Model(inputs=[input_], outputs=[output])"
   ]
  },
  {
   "cell_type": "code",
   "execution_count": null,
   "id": "sacred-springfield",
   "metadata": {},
   "outputs": [],
   "source": [
    "input_a = tf.keras.layers.Input(shape = [5], name='A')\n",
    "input_b = tf.keras.layers.Input(shape = [7], name='B')\n",
    "\n",
    "hidden1 = tf.keras.layers.Dense(30, activation='relu')(input_b)\n",
    "hidden2 = tf.keras.layers.Dense(30, activation='relu')(hidden1)\n",
    "\n",
    "concat = tf.keras.layers.Concatenate() ([input_a, hidden2])\n",
    "sec_output = tf.keras.layers.Dense(1, name=\"Secondary\")(hidden2)\n",
    "output = tf.keras.layers.Dense(1, name='Main')(concat)\n",
    "model = tf.keras.Model(inputs=[input_a, input_b], outputs=[output, sec_output])"
   ]
  }
 ],
 "metadata": {
  "kernelspec": {
   "display_name": "Python 3",
   "language": "python",
   "name": "python3"
  },
  "language_info": {
   "codemirror_mode": {
    "name": "ipython",
    "version": 3
   },
   "file_extension": ".py",
   "mimetype": "text/x-python",
   "name": "python",
   "nbconvert_exporter": "python",
   "pygments_lexer": "ipython3",
   "version": "3.7.9"
  }
 },
 "nbformat": 4,
 "nbformat_minor": 5
}

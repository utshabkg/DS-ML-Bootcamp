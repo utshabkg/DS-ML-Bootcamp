{
 "cells": [
  {
   "cell_type": "code",
   "execution_count": 3,
   "id": "racial-ridge",
   "metadata": {},
   "outputs": [],
   "source": [
    "import numpy as np\n",
    "import matplotlib.pyplot as plt\n",
    "from scipy.stats import shapiro"
   ]
  },
  {
   "cell_type": "code",
   "execution_count": 4,
   "id": "missing-convenience",
   "metadata": {},
   "outputs": [],
   "source": [
    "normal = np.random.normal(size=200)\n",
    "not_normal = np.random.uniform(size=200)"
   ]
  },
  {
   "cell_type": "code",
   "execution_count": 7,
   "id": "quarterly-plain",
   "metadata": {},
   "outputs": [
    {
     "data": {
      "text/plain": [
       "(array([ 5.,  5.,  8., 23., 36., 46., 43., 19., 10.,  5.]),\n",
       " array([-3.04446255, -2.50004727, -1.95563199, -1.41121671, -0.86680143,\n",
       "        -0.32238615,  0.22202913,  0.76644442,  1.3108597 ,  1.85527498,\n",
       "         2.39969026]),\n",
       " <BarContainer object of 10 artists>)"
      ]
     },
     "execution_count": 7,
     "metadata": {},
     "output_type": "execute_result"
    },
    {
     "data": {
      "image/png": "[encoded data removed]",
      "text/plain": [
       "<Figure size 432x288 with 1 Axes>"
      ]
     },
     "metadata": {
      "needs_background": "light"
     },
     "output_type": "display_data"
    }
   ],
   "source": [
    "plt.hist(normal)"
   ]
  },
  {
   "cell_type": "code",
   "execution_count": 8,
   "id": "attended-species",
   "metadata": {},
   "outputs": [
    {
     "data": {
      "text/plain": [
       "(array([27., 27., 20., 22., 23., 11., 22., 12., 14., 22.]),\n",
       " array([0.00137124, 0.10076685, 0.20016247, 0.29955809, 0.39895371,\n",
       "        0.49834933, 0.59774494, 0.69714056, 0.79653618, 0.8959318 ,\n",
       "        0.99532741]),\n",
       " <BarContainer object of 10 artists>)"
      ]
     },
     "execution_count": 8,
     "metadata": {},
     "output_type": "execute_result"
    },
    {
     "data": {
      "image/png": "[encoded data removed]",
      "text/plain": [
       "<Figure size 432x288 with 1 Axes>"
      ]
     },
     "metadata": {
      "needs_background": "light"
     },
     "output_type": "display_data"
    }
   ],
   "source": [
    "plt.hist(not_normal)"
   ]
  },
  {
   "cell_type": "code",
   "execution_count": 10,
   "id": "laden-reflection",
   "metadata": {},
   "outputs": [
    {
     "data": {
      "text/plain": [
       "ShapiroResult(statistic=0.9907012581825256, pvalue=0.2256920486688614)"
      ]
     },
     "execution_count": 10,
     "metadata": {},
     "output_type": "execute_result"
    }
   ],
   "source": [
    "shapiro(normal)"
   ]
  },
  {
   "cell_type": "code",
   "execution_count": 11,
   "id": "awful-azerbaijan",
   "metadata": {},
   "outputs": [
    {
     "data": {
      "text/plain": [
       "ShapiroResult(statistic=0.9391313195228577, pvalue=1.9269421613898885e-07)"
      ]
     },
     "execution_count": 11,
     "metadata": {},
     "output_type": "execute_result"
    }
   ],
   "source": [
    "shapiro(not_normal)"
   ]
  },
  {
   "cell_type": "code",
   "execution_count": 12,
   "id": "assigned-offering",
   "metadata": {},
   "outputs": [
    {
     "name": "stderr",
     "output_type": "stream",
     "text": [
      "C:\\Users\\UTSHAB\\AppData\\Roaming\\Python\\Python37\\site-packages\\scipy\\stats\\morestats.py:1681: UserWarning: p-value may not be accurate for N > 5000.\n",
      "  warnings.warn(\"p-value may not be accurate for N > 5000.\")\n"
     ]
    },
    {
     "data": {
      "text/plain": [
       "ShapiroResult(statistic=0.9518367648124695, pvalue=1.5102073809721419e-40)"
      ]
     },
     "execution_count": 12,
     "metadata": {},
     "output_type": "execute_result"
    }
   ],
   "source": [
    "shapiro(np.random.uniform(size=6000))"
   ]
  },
  {
   "cell_type": "markdown",
   "id": "progressive-refund",
   "metadata": {},
   "source": [
    "## Non-parametric Tests"
   ]
  },
  {
   "cell_type": "code",
   "execution_count": 24,
   "id": "patient-character",
   "metadata": {},
   "outputs": [],
   "source": [
    "# Test Dataset\n",
    "from numpy.random import seed, randn\n",
    "\n",
    "seed(1)\n",
    "\n",
    "data1 = 5 * randn(100) + 20\n",
    "data2 = 5 * randn(100) + 21\n",
    "data3 = 5 * randn(100) + 22"
   ]
  },
  {
   "cell_type": "code",
   "execution_count": 25,
   "id": "unknown-inspiration",
   "metadata": {},
   "outputs": [
    {
     "data": {
      "text/plain": [
       "(20.302914260378497, 4.425781069157925)"
      ]
     },
     "execution_count": 25,
     "metadata": {},
     "output_type": "execute_result"
    }
   ],
   "source": [
    "np.mean(data1), np.std(data1)"
   ]
  },
  {
   "cell_type": "code",
   "execution_count": 26,
   "id": "removable-savings",
   "metadata": {},
   "outputs": [
    {
     "data": {
      "text/plain": [
       "(21.763973888100995, 4.6599740872749775)"
      ]
     },
     "execution_count": 26,
     "metadata": {},
     "output_type": "execute_result"
    }
   ],
   "source": [
    "np.mean(data2), np.std(data2)"
   ]
  },
  {
   "cell_type": "code",
   "execution_count": 27,
   "id": "elect-scanner",
   "metadata": {},
   "outputs": [
    {
     "name": "stdout",
     "output_type": "stream",
     "text": [
      "4025.0 0.008630923458799062\n",
      "Different Distribution (Reject H0)\n"
     ]
    }
   ],
   "source": [
    "# mann-whitney U test\n",
    "from scipy.stats import mannwhitneyu\n",
    "\n",
    "stat, p = mannwhitneyu(data1, data2)\n",
    "\n",
    "alpha = 0.05\n",
    "\n",
    "print(stat, p)\n",
    "if p <= alpha:\n",
    "    print(\"Different Distribution (Reject H0)\")\n",
    "else:\n",
    "    print(\"Same Distribution (Accept H0)\")"
   ]
  },
  {
   "cell_type": "code",
   "execution_count": 28,
   "id": "rough-database",
   "metadata": {},
   "outputs": [
    {
     "name": "stdout",
     "output_type": "stream",
     "text": [
      "1886.0 0.02801404950478365\n",
      "Different Distribution (Reject H0)\n"
     ]
    }
   ],
   "source": [
    "# wilcoxon signed-rank\n",
    "from scipy.stats import wilcoxon\n",
    "\n",
    "stat, p = wilcoxon(data1, data2)\n",
    "stat, p\n",
    "\n",
    "alpha = 0.05\n",
    "\n",
    "print(stat, p)\n",
    "if p <= alpha:\n",
    "    print(\"Different Distribution (Reject H0)\")\n",
    "else:\n",
    "    print(\"Same Distribution (Accept H0)\")"
   ]
  },
  {
   "cell_type": "code",
   "execution_count": 30,
   "id": "secondary-beverage",
   "metadata": {},
   "outputs": [
    {
     "name": "stdout",
     "output_type": "stream",
     "text": [
      "7.575502990033328 0.02264646533645618\n",
      "Different Distribution (Reject H0)\n"
     ]
    }
   ],
   "source": [
    "# kruskal-wallis H test\n",
    "from scipy.stats import kruskal\n",
    "\n",
    "stat, p = kruskal(data1, data2, data3)\n",
    "stat, p\n",
    "\n",
    "alpha = 0.05\n",
    "\n",
    "print(stat, p)\n",
    "if p <= alpha:\n",
    "    print(\"Different Distribution (Reject H0)\")\n",
    "else:\n",
    "    print(\"Same Distribution (Accept H0)\")"
   ]
  },
  {
   "cell_type": "code",
   "execution_count": 31,
   "id": "occupational-russian",
   "metadata": {},
   "outputs": [
    {
     "name": "stdout",
     "output_type": "stream",
     "text": [
      "9.779999999999973 0.00752142247499337\n",
      "Different Distribution (Reject H0)\n"
     ]
    }
   ],
   "source": [
    "# friedman test\n",
    "from scipy.stats import friedmanchisquare\n",
    "\n",
    "stat, p = friedmanchisquare(data1, data2, data3)\n",
    "stat, p\n",
    "\n",
    "alpha = 0.05\n",
    "\n",
    "print(stat, p)\n",
    "if p <= alpha:\n",
    "    print(\"Different Distribution (Reject H0)\")\n",
    "else:\n",
    "    print(\"Same Distribution (Accept H0)\")"
   ]
  },
  {
   "cell_type": "code",
   "execution_count": null,
   "id": "korean-greensboro",
   "metadata": {},
   "outputs": [],
   "source": []
  }
 ],
 "metadata": {
  "kernelspec": {
   "display_name": "Python 3",
   "language": "python",
   "name": "python3"
  },
  "language_info": {
   "codemirror_mode": {
    "name": "ipython",
    "version": 3
   },
   "file_extension": ".py",
   "mimetype": "text/x-python",
   "name": "python",
   "nbconvert_exporter": "python",
   "pygments_lexer": "ipython3",
   "version": "3.7.9"
  }
 },
 "nbformat": 4,
 "nbformat_minor": 5
}
